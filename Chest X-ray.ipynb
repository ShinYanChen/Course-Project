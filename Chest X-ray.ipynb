{
 "cells": [
  {
   "cell_type": "code",
   "execution_count": 1,
   "metadata": {},
   "outputs": [],
   "source": [
    "import tensorflow as tf;\n",
    "import numpy as np;\n",
    "import pandas as pd;\n",
    "import matplotlib.pyplot as plt;\n",
    "import sklearn;"
   ]
  },
  {
   "cell_type": "code",
   "execution_count": 2,
   "metadata": {},
   "outputs": [],
   "source": [
    "def unfold(X,k):\n",
    "    n = X.shape[0];\n",
    "    p1 = X.shape[1];\n",
    "    p2 = X.shape[2];\n",
    "    if k == 0 :\n",
    "        X = np.transpose(X,(1,2,0));\n",
    "        Xk = np.reshape(X,[p1,n*p2],order='F')\n",
    "    else :\n",
    "        X = np.transpose(X,(2,1,0));\n",
    "        Xk = np.reshape(X,[p2,p1*n],order='F')\n",
    "    return Xk ;"
   ]
  },
  {
   "cell_type": "code",
   "execution_count": 3,
   "metadata": {},
   "outputs": [],
   "source": [
    "def plot(fig,u,v,i1,i2):\n",
    "    image = u @ v.T;\n",
    "    ax = fig.add_subplot(5,5,i1*5+i2+1)\n",
    "    ax.set_title(\"a{} b{}^T\".format(i1+1,i2+1))\n",
    "    img = ax.imshow(image,cmap='gray',interpolation='nearest',origin='upper')\n",
    "    cbar = fig.colorbar(img,ax=ax,aspect=50,pad=0.08,shrink=0.5,orientation='horizontal')"
   ]
  },
  {
   "cell_type": "markdown",
   "metadata": {},
   "source": [
    "# Preprocessing"
   ]
  },
  {
   "cell_type": "code",
   "execution_count": 4,
   "metadata": {},
   "outputs": [
    {
     "name": "stdout",
     "output_type": "stream",
     "text": [
      "Found 5216 images belonging to 2 classes.\n",
      "Found 16 images belonging to 2 classes.\n",
      "Found 624 images belonging to 2 classes.\n"
     ]
    }
   ],
   "source": [
    "imgX = 224;\n",
    "imgY = 224;\n",
    "\n",
    "train_datagen = tf.keras.preprocessing.image.ImageDataGenerator(rescale = 1./255)\n",
    "validation_datagen = tf.keras.preprocessing.image.ImageDataGenerator(rescale = 1./255)\n",
    "test_datagen = tf.keras.preprocessing.image.ImageDataGenerator(rescale = 1./255)\n",
    "\n",
    "prefix = 'chest_xray';\n",
    "\n",
    "train_generator = train_datagen.flow_from_directory(\n",
    "   prefix + '/train',\n",
    "   target_size=(imgX,imgY),\n",
    "   batch_size=5216,\n",
    "   class_mode=\"input\",\n",
    "   color_mode=\"grayscale\",\n",
    "   shuffle=False,\n",
    ")\n",
    "\n",
    "validation_generator = validation_datagen.flow_from_directory(\n",
    "    prefix + '/val',\n",
    "    target_size=(imgX,imgY),\n",
    "    class_mode=\"input\",\n",
    "    color_mode=\"grayscale\",\n",
    "    shuffle=False,\n",
    "    batch_size=16,\n",
    ")\n",
    "\n",
    "test_generator = test_datagen.flow_from_directory(\n",
    "    prefix+'/test',\n",
    "    target_size=(imgX,imgY),\n",
    "    class_mode=\"input\",\n",
    "    color_mode=\"grayscale\",\n",
    "    shuffle=False,\n",
    "    batch_size=624,\n",
    ")\n",
    "\n",
    "num_classes = 2;"
   ]
  },
  {
   "cell_type": "code",
   "execution_count": 5,
   "metadata": {},
   "outputs": [],
   "source": [
    "X,Y = train_generator.next();\n",
    "\n",
    "n = X.shape[0];\n",
    "p1 = X.shape[1];\n",
    "p2 = X.shape[2]; \n",
    "\n",
    "X = np.reshape(X,[n,p1,p2]);"
   ]
  },
  {
   "cell_type": "code",
   "execution_count": 6,
   "metadata": {},
   "outputs": [],
   "source": [
    "test,test_ = test_generator.next();\n",
    "\n",
    "m = test.shape[0];\n",
    "p1 = test.shape[1];\n",
    "p2 = test.shape[2]; \n",
    "\n",
    "test = np.reshape(test,[m,p1,p2]);\n",
    "test1 = np.transpose(test,(1,2,0));\n",
    "test1 = np.reshape(test1,[p1*p2,m],order='F');"
   ]
  },
  {
   "cell_type": "markdown",
   "metadata": {},
   "source": [
    "# MPCA"
   ]
  },
  {
   "cell_type": "code",
   "execution_count": 7,
   "metadata": {},
   "outputs": [],
   "source": [
    "X1 = np.transpose(X,(1,2,0));\n",
    "X1 = np.reshape(X1,[p1, p2*n],order='F');\n",
    "U1,S1,V1 = np.linalg.svd(X1 @ X1.T);\n",
    "\n",
    "X2 = np.transpose(X,(2,1,0));\n",
    "X2 = np.reshape(X2,[p2, p1*n],order='F');\n",
    "U2,S2,V2 = np.linalg.svd(X2 @ X2.T);"
   ]
  },
  {
   "cell_type": "code",
   "execution_count": 8,
   "metadata": {},
   "outputs": [],
   "source": [
    "A = U1[:,0:32]; # 3,10,20,32,50\n",
    "B = U2[:,0:32]; # 3,10,20,32,50"
   ]
  },
  {
   "cell_type": "code",
   "execution_count": 9,
   "metadata": {},
   "outputs": [
    {
     "name": "stdout",
     "output_type": "stream",
     "text": [
      "80.5898\n",
      "80.58907\n",
      "80.58907\n",
      "80.58907\n",
      "80.58907\n"
     ]
    }
   ],
   "source": [
    "i = 1;\n",
    "count = 5;\n",
    "\n",
    "for X,Y in train_generator:\n",
    "    n = X.shape[0];\n",
    "    p1 = X.shape[1];\n",
    "    p2 = X.shape[2];\n",
    "    X = np.reshape(X,[n,p1,p2]);\n",
    "    \n",
    "    Bn = np.expand_dims(B,0)\n",
    "    Bn = np.tile(Bn,[n,1,1]);\n",
    "    XB = np.matmul(X,Bn);\n",
    "    XB2 = unfold(XB,0);\n",
    "    U1,S1,V1 = np.linalg.svd(XB2 @ XB2.T)\n",
    "    A = U1[:,0:32]; # 3,10,20,32,50\n",
    "    \n",
    "    ATn = np.expand_dims(A.T,0)\n",
    "    ATn = np.tile(ATn,[n,1,1]);\n",
    "    AX = np.matmul(ATn,X);\n",
    "    AX1 = unfold(AX,1);\n",
    "    U2,S2,V2 = np.linalg.svd(AX1 @ AX1.T)\n",
    "    B = U2[:,0:32]; # 3,10,20,32,50\n",
    "    \n",
    "    AATn = np.expand_dims(A @ A.T,0);\n",
    "    AATn = np.tile(AATn,[n,1,1]);\n",
    "    BBTn = np.expand_dims(B @ B.T,0);\n",
    "    BBTn = np.tile(BBTn,[n,1,1]);\n",
    "    X_ = AATn @ X @ BBTn;\n",
    "    error = np.sum(np.sum(np.square(X-X_),axis=1),axis=1);\n",
    "    print(np.mean(error))\n",
    "    \n",
    "    i = i+1;\n",
    "    if i > count:\n",
    "       break;"
   ]
  },
  {
   "cell_type": "markdown",
   "metadata": {},
   "source": [
    "# Derive MPCA-reduced core tensor"
   ]
  },
  {
   "cell_type": "code",
   "execution_count": 10,
   "metadata": {},
   "outputs": [],
   "source": [
    "An = np.expand_dims(A, 0);\n",
    "An = np.tile(An, [n,1,1]);\n",
    "AnT = np.transpose(An, (0,2,1));\n",
    "Bn = np.expand_dims(B,0);\n",
    "Bn = np.tile(Bn, [n,1,1]);\n",
    "Xc = AnT @ X @ Bn;\n",
    "\n",
    "Am = np.expand_dims(A, 0);\n",
    "Am = np.tile(Am, [m,1,1]);\n",
    "AmT = np.transpose(Am, (0,2,1));\n",
    "Bm = np.expand_dims(B,0);\n",
    "Bm = np.tile(Bm, [m,1,1]);\n",
    "test_c = AmT @ test @ Bm;"
   ]
  },
  {
   "cell_type": "code",
   "execution_count": 11,
   "metadata": {},
   "outputs": [],
   "source": [
    "Xsvm = np.reshape(Xc,[n,32*32]); # 3,10,20,32,50\n",
    "testsvm = np.reshape(test_c,[m,32*32]); # 3,10,20,32,50"
   ]
  },
  {
   "cell_type": "code",
   "execution_count": 12,
   "metadata": {},
   "outputs": [],
   "source": [
    "Ysvm = np.array([0,1])\n",
    "Ysvm = np.repeat(Ysvm,[1341,3875],axis=0)\n",
    "Tsvm = np.array([0,1])\n",
    "Tsvm = np.repeat(Tsvm,[234,390],axis=0)"
   ]
  },
  {
   "cell_type": "code",
   "execution_count": 13,
   "metadata": {},
   "outputs": [],
   "source": [
    "from sklearn.svm import SVC;"
   ]
  },
  {
   "cell_type": "markdown",
   "metadata": {},
   "source": [
    "### Linear SVM"
   ]
  },
  {
   "cell_type": "code",
   "execution_count": 14,
   "metadata": {},
   "outputs": [
    {
     "data": {
      "text/plain": [
       "SVC(C=1.0, break_ties=False, cache_size=200, class_weight=None, coef0=0.0,\n",
       "    decision_function_shape='ovr', degree=3, gamma='scale', kernel='linear',\n",
       "    max_iter=-1, probability=False, random_state=None, shrinking=True,\n",
       "    tol=0.001, verbose=False)"
      ]
     },
     "execution_count": 14,
     "metadata": {},
     "output_type": "execute_result"
    }
   ],
   "source": [
    "svm1 = SVC(kernel='linear',probability=False);\n",
    "svm1.fit(Xsvm,Ysvm)"
   ]
  },
  {
   "cell_type": "code",
   "execution_count": 15,
   "metadata": {},
   "outputs": [
    {
     "name": "stdout",
     "output_type": "stream",
     "text": [
      "Accuracy : 0.7436\n"
     ]
    }
   ],
   "source": [
    "error1 = 0\n",
    "for i, v in enumerate(svm1.predict(testsvm)):\n",
    "    if v!= Tsvm[i]:\n",
    "        error1+=1\n",
    "print('Accuracy :',round(1 - error1/624,4))"
   ]
  },
  {
   "cell_type": "markdown",
   "metadata": {},
   "source": [
    "### Nonlinear SVM with Gaussian kernel"
   ]
  },
  {
   "cell_type": "code",
   "execution_count": 16,
   "metadata": {},
   "outputs": [
    {
     "data": {
      "text/plain": [
       "SVC(C=1.0, break_ties=False, cache_size=200, class_weight=None, coef0=0.0,\n",
       "    decision_function_shape='ovr', degree=3, gamma='auto', kernel='rbf',\n",
       "    max_iter=-1, probability=False, random_state=None, shrinking=True,\n",
       "    tol=0.001, verbose=False)"
      ]
     },
     "execution_count": 16,
     "metadata": {},
     "output_type": "execute_result"
    }
   ],
   "source": [
    "svm2 = SVC(kernel='rbf',probability=False,gamma='auto');\n",
    "svm2.fit(Xsvm,Ysvm)"
   ]
  },
  {
   "cell_type": "code",
   "execution_count": 17,
   "metadata": {},
   "outputs": [
    {
     "name": "stdout",
     "output_type": "stream",
     "text": [
      "Accuracy : 0.7724\n"
     ]
    }
   ],
   "source": [
    "error2 = 0\n",
    "for i, v in enumerate(svm2.predict(testsvm)):\n",
    "    if v!= Tsvm[i]:\n",
    "        error2+=1\n",
    "print('Accuracy :',round(1 - error2/624,4))"
   ]
  },
  {
   "cell_type": "markdown",
   "metadata": {},
   "source": [
    "### Logistic regression using Single Neuron Neural Network"
   ]
  },
  {
   "cell_type": "code",
   "execution_count": 100,
   "metadata": {},
   "outputs": [
    {
     "name": "stdout",
     "output_type": "stream",
     "text": [
      "Train on 5216 samples, validate on 624 samples\n",
      "Epoch 1/20\n",
      "5216/5216 [==============================] - 1s 172us/sample - loss: 0.5847 - accuracy: 0.7099 - val_loss: 0.5518 - val_accuracy: 0.7099\n",
      "Epoch 2/20\n",
      "5216/5216 [==============================] - 0s 15us/sample - loss: 0.3245 - accuracy: 0.8756 - val_loss: 0.4911 - val_accuracy: 0.7740\n",
      "Epoch 3/20\n",
      "5216/5216 [==============================] - 0s 15us/sample - loss: 0.2349 - accuracy: 0.9156 - val_loss: 0.5134 - val_accuracy: 0.7869\n",
      "Epoch 4/20\n",
      "5216/5216 [==============================] - 0s 14us/sample - loss: 0.1892 - accuracy: 0.9319 - val_loss: 0.5721 - val_accuracy: 0.7708\n",
      "Epoch 5/20\n",
      "5216/5216 [==============================] - 0s 11us/sample - loss: 0.1589 - accuracy: 0.9457 - val_loss: 0.6366 - val_accuracy: 0.7628\n",
      "Epoch 6/20\n",
      "5216/5216 [==============================] - 0s 16us/sample - loss: 0.1394 - accuracy: 0.9525 - val_loss: 0.6578 - val_accuracy: 0.7724\n",
      "Epoch 7/20\n",
      "5216/5216 [==============================] - 0s 14us/sample - loss: 0.1253 - accuracy: 0.9576 - val_loss: 0.6770 - val_accuracy: 0.7853\n",
      "Epoch 8/20\n",
      "5216/5216 [==============================] - 0s 13us/sample - loss: 0.1127 - accuracy: 0.9617 - val_loss: 0.6859 - val_accuracy: 0.7901\n",
      "Epoch 9/20\n",
      "5216/5216 [==============================] - 0s 14us/sample - loss: 0.1066 - accuracy: 0.9649 - val_loss: 0.7287 - val_accuracy: 0.7949\n",
      "Epoch 10/20\n",
      "5216/5216 [==============================] - 0s 15us/sample - loss: 0.0964 - accuracy: 0.9672 - val_loss: 0.7342 - val_accuracy: 0.7965\n",
      "Epoch 11/20\n",
      "5216/5216 [==============================] - 0s 15us/sample - loss: 0.0916 - accuracy: 0.9718 - val_loss: 0.7571 - val_accuracy: 0.8013\n",
      "Epoch 12/20\n",
      "5216/5216 [==============================] - 0s 14us/sample - loss: 0.0841 - accuracy: 0.9745 - val_loss: 0.7308 - val_accuracy: 0.8029\n",
      "Epoch 13/20\n",
      "5216/5216 [==============================] - 0s 14us/sample - loss: 0.0802 - accuracy: 0.9743 - val_loss: 0.7485 - val_accuracy: 0.8029\n",
      "Epoch 14/20\n",
      "5216/5216 [==============================] - 0s 14us/sample - loss: 0.0751 - accuracy: 0.9758 - val_loss: 0.7794 - val_accuracy: 0.8045\n",
      "Epoch 15/20\n",
      "5216/5216 [==============================] - 0s 14us/sample - loss: 0.0732 - accuracy: 0.9787 - val_loss: 0.7635 - val_accuracy: 0.8141\n",
      "Epoch 16/20\n",
      "5216/5216 [==============================] - 0s 14us/sample - loss: 0.0674 - accuracy: 0.9803 - val_loss: 0.7847 - val_accuracy: 0.8157\n",
      "Epoch 17/20\n",
      "5216/5216 [==============================] - 0s 14us/sample - loss: 0.0653 - accuracy: 0.9810 - val_loss: 0.7852 - val_accuracy: 0.8189\n",
      "Epoch 18/20\n",
      "5216/5216 [==============================] - 0s 14us/sample - loss: 0.0620 - accuracy: 0.9820 - val_loss: 0.7852 - val_accuracy: 0.8221\n",
      "Epoch 19/20\n",
      "5216/5216 [==============================] - 0s 14us/sample - loss: 0.0601 - accuracy: 0.9826 - val_loss: 0.7616 - val_accuracy: 0.8269\n",
      "Epoch 20/20\n",
      "5216/5216 [==============================] - 0s 15us/sample - loss: 0.0596 - accuracy: 0.9814 - val_loss: 0.7631 - val_accuracy: 0.8301\n"
     ]
    }
   ],
   "source": [
    "model = tf.keras.Sequential()\n",
    "model.add(tf.keras.layers.BatchNormalization(axis=-1,momentum=0.999999,epsilon=0.001,center=True,scale=True,beta_initializer='zeros',\n",
    "                                             gamma_initializer='ones',moving_mean_initializer='zeros',moving_variance_initializer='ones'));\n",
    "model.add(tf.keras.layers.Dense(1,activation='sigmoid',input_shape=(32*32,))) # 3,10,20,32,50\n",
    "model.compile(loss='binary_crossentropy',optimizer='RMSprop',metrics=['accuracy'])\n",
    "history = model.fit(Xsvm,Ysvm,batch_size=250,epochs=20,verbose=1,validation_data=(testsvm,Tsvm))"
   ]
  },
  {
   "cell_type": "code",
   "execution_count": null,
   "metadata": {},
   "outputs": [],
   "source": []
  },
  {
   "cell_type": "code",
   "execution_count": null,
   "metadata": {},
   "outputs": [],
   "source": []
  },
  {
   "cell_type": "code",
   "execution_count": null,
   "metadata": {},
   "outputs": [],
   "source": []
  },
  {
   "cell_type": "code",
   "execution_count": null,
   "metadata": {},
   "outputs": [],
   "source": []
  }
 ],
 "metadata": {
  "kernelspec": {
   "display_name": "Python 3",
   "language": "python",
   "name": "python3"
  },
  "language_info": {
   "codemirror_mode": {
    "name": "ipython",
    "version": 3
   },
   "file_extension": ".py",
   "mimetype": "text/x-python",
   "name": "python",
   "nbconvert_exporter": "python",
   "pygments_lexer": "ipython3",
   "version": "3.7.6"
  }
 },
 "nbformat": 4,
 "nbformat_minor": 4
}
