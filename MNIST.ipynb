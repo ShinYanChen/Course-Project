{
 "cells": [
  {
   "cell_type": "code",
   "execution_count": 12,
   "metadata": {},
   "outputs": [],
   "source": [
    "import math\n",
    "import numpy as np\n",
    "import tensorflow as tf\n",
    "import matplotlib.pyplot as plt"
   ]
  },
  {
   "cell_type": "code",
   "execution_count": 2,
   "metadata": {},
   "outputs": [],
   "source": [
    "mnist = tf.keras.datasets.mnist\n",
    "(x_train,y_train), (x_test,y_test) = mnist.load_data()"
   ]
  },
  {
   "cell_type": "code",
   "execution_count": 3,
   "metadata": {},
   "outputs": [
    {
     "name": "stdout",
     "output_type": "stream",
     "text": [
      "(60000, 28, 28)\n",
      "(60000,)\n",
      "(10000, 28, 28)\n",
      "(10000,)\n"
     ]
    },
    {
     "data": {
      "image/png": "[encoded data removed]",
      "text/plain": [
       "<Figure size 640x480 with 1 Axes>"
      ]
     },
     "metadata": {},
     "output_type": "display_data"
    }
   ],
   "source": [
    "plt.imshow(x_train[0],cmap=plt.cm.Blues)\n",
    "print(x_train.shape)\n",
    "print(y_train.shape)\n",
    "print(x_test.shape)\n",
    "print(y_test.shape)"
   ]
  },
  {
   "cell_type": "code",
   "execution_count": 4,
   "metadata": {},
   "outputs": [],
   "source": [
    "x_train = x_train.reshape(x_train.shape[0],x_train.shape[1]*x_train.shape[2])\n",
    "x_test = x_test.reshape(x_test.shape[0],x_test.shape[1]*x_test.shape[2])\n",
    "\n",
    "x_train = x_train/255\n",
    "x_test = x_test/255\n",
    "\n",
    "y_train = tf.keras.utils.to_categorical(y_train)\n",
    "y_test = tf.keras.utils.to_categorical(y_test)"
   ]
  },
  {
   "cell_type": "code",
   "execution_count": 5,
   "metadata": {},
   "outputs": [
    {
     "name": "stdout",
     "output_type": "stream",
     "text": [
      "Epoch 1/40\n",
      "100/100 [==============================] - 3s 5ms/step - loss: 0.3958 - accuracy: 0.8922\n",
      "Epoch 2/40\n",
      "100/100 [==============================] - 1s 6ms/step - loss: 0.1461 - accuracy: 0.9577\n",
      "Epoch 3/40\n",
      "100/100 [==============================] - 0s 5ms/step - loss: 0.0964 - accuracy: 0.9720\n",
      "Epoch 4/40\n",
      "100/100 [==============================] - 0s 5ms/step - loss: 0.0701 - accuracy: 0.9794\n",
      "Epoch 5/40\n",
      "100/100 [==============================] - 1s 5ms/step - loss: 0.0522 - accuracy: 0.9849\n",
      "Epoch 6/40\n",
      "100/100 [==============================] - 1s 6ms/step - loss: 0.0409 - accuracy: 0.9876\n",
      "Epoch 7/40\n",
      "100/100 [==============================] - 0s 5ms/step - loss: 0.0312 - accuracy: 0.9913\n",
      "Epoch 8/40\n",
      "100/100 [==============================] - 0s 4ms/step - loss: 0.0257 - accuracy: 0.9928\n",
      "Epoch 9/40\n",
      "100/100 [==============================] - 0s 4ms/step - loss: 0.0195 - accuracy: 0.9950\n",
      "Epoch 10/40\n",
      "100/100 [==============================] - 0s 3ms/step - loss: 0.0145 - accuracy: 0.9966\n",
      "Epoch 11/40\n",
      "100/100 [==============================] - 0s 4ms/step - loss: 0.0113 - accuracy: 0.9978\n",
      "Epoch 12/40\n",
      "100/100 [==============================] - 0s 4ms/step - loss: 0.0089 - accuracy: 0.9984\n",
      "Epoch 13/40\n",
      "100/100 [==============================] - 0s 4ms/step - loss: 0.0065 - accuracy: 0.9991\n",
      "Epoch 14/40\n",
      "100/100 [==============================] - 0s 4ms/step - loss: 0.0050 - accuracy: 0.9993\n",
      "Epoch 15/40\n",
      "100/100 [==============================] - 0s 4ms/step - loss: 0.0043 - accuracy: 0.9995\n",
      "Epoch 16/40\n",
      "100/100 [==============================] - 0s 4ms/step - loss: 0.0029 - accuracy: 0.9998\n",
      "Epoch 17/40\n",
      "100/100 [==============================] - 0s 4ms/step - loss: 0.0021 - accuracy: 0.9999\n",
      "Epoch 18/40\n",
      "100/100 [==============================] - 0s 4ms/step - loss: 0.0019 - accuracy: 0.9999\n",
      "Epoch 19/40\n",
      "100/100 [==============================] - 0s 4ms/step - loss: 0.0014 - accuracy: 1.0000\n",
      "Epoch 20/40\n",
      "100/100 [==============================] - 0s 4ms/step - loss: 0.0011 - accuracy: 1.0000\n",
      "Epoch 21/40\n",
      "100/100 [==============================] - 1s 6ms/step - loss: 8.9124e-04 - accuracy: 1.0000\n",
      "Epoch 22/40\n",
      "100/100 [==============================] - 0s 5ms/step - loss: 7.5671e-04 - accuracy: 1.0000\n",
      "Epoch 23/40\n",
      "100/100 [==============================] - 0s 5ms/step - loss: 6.6730e-04 - accuracy: 1.0000\n",
      "Epoch 24/40\n",
      "100/100 [==============================] - 0s 5ms/step - loss: 5.8477e-04 - accuracy: 1.0000\n",
      "Epoch 25/40\n",
      "100/100 [==============================] - 1s 6ms/step - loss: 5.2949e-04 - accuracy: 1.0000\n",
      "Epoch 26/40\n",
      "100/100 [==============================] - 1s 6ms/step - loss: 4.7809e-04 - accuracy: 1.0000\n",
      "Epoch 27/40\n",
      "100/100 [==============================] - 1s 5ms/step - loss: 4.1818e-04 - accuracy: 1.0000\n",
      "Epoch 28/40\n",
      "100/100 [==============================] - 0s 5ms/step - loss: 3.6779e-04 - accuracy: 1.0000\n",
      "Epoch 29/40\n",
      "100/100 [==============================] - 0s 4ms/step - loss: 3.3661e-04 - accuracy: 1.0000\n",
      "Epoch 30/40\n",
      "100/100 [==============================] - 1s 5ms/step - loss: 3.0754e-04 - accuracy: 1.0000\n",
      "Epoch 31/40\n",
      "100/100 [==============================] - 0s 4ms/step - loss: 2.8071e-04 - accuracy: 1.0000\n",
      "Epoch 32/40\n",
      "100/100 [==============================] - 0s 3ms/step - loss: 2.5621e-04 - accuracy: 1.0000\n",
      "Epoch 33/40\n",
      "100/100 [==============================] - 0s 4ms/step - loss: 2.2968e-04 - accuracy: 1.0000\n",
      "Epoch 34/40\n",
      "100/100 [==============================] - 0s 4ms/step - loss: 2.1278e-04 - accuracy: 1.0000\n",
      "Epoch 35/40\n",
      "100/100 [==============================] - 0s 4ms/step - loss: 1.9868e-04 - accuracy: 1.0000\n",
      "Epoch 36/40\n",
      "100/100 [==============================] - 0s 4ms/step - loss: 1.8129e-04 - accuracy: 1.0000\n",
      "Epoch 37/40\n",
      "100/100 [==============================] - 0s 4ms/step - loss: 1.6956e-04 - accuracy: 1.0000\n",
      "Epoch 38/40\n",
      "100/100 [==============================] - 1s 5ms/step - loss: 1.5210e-04 - accuracy: 1.0000\n",
      "Epoch 39/40\n",
      "100/100 [==============================] - 0s 4ms/step - loss: 1.4094e-04 - accuracy: 1.0000\n",
      "Epoch 40/40\n",
      "100/100 [==============================] - 0s 4ms/step - loss: 1.3258e-04 - accuracy: 1.0000\n"
     ]
    },
    {
     "data": {
      "text/plain": [
       "<keras.callbacks.History at 0x1681749f580>"
      ]
     },
     "execution_count": 5,
     "metadata": {},
     "output_type": "execute_result"
    }
   ],
   "source": [
    "model = tf.keras.Sequential()\n",
    "model.add(tf.keras.layers.Dense(input_dim = 28*28, units = 500, activation = \"relu\"))\n",
    "model.add(tf.keras.layers.Dense(units = 100, activation = \"relu\"))\n",
    "model.add(tf.keras.layers.Dense(units = 10, activation = \"softmax\"))\n",
    "\n",
    "model.compile(loss = \"categorical_crossentropy\", optimizer = \"Adam\", metrics = [\"accuracy\"])\n",
    "model.fit(x_train, y_train, batch_size = 600, epochs = 40)"
   ]
  },
  {
   "cell_type": "code",
   "execution_count": 6,
   "metadata": {},
   "outputs": [
    {
     "name": "stdout",
     "output_type": "stream",
     "text": [
      "313/313 [==============================] - 1s 3ms/step - loss: 0.0839 - accuracy: 0.9828\n"
     ]
    },
    {
     "data": {
      "text/plain": [
       "[0.08386782556772232, 0.9828000068664551]"
      ]
     },
     "execution_count": 6,
     "metadata": {},
     "output_type": "execute_result"
    }
   ],
   "source": [
    "model.evaluate(x_test,y_test)"
   ]
  },
  {
   "cell_type": "code",
   "execution_count": 31,
   "metadata": {},
   "outputs": [],
   "source": [
    "x_train_c = x_train.reshape(x_train.shape[0],int(math.sqrt(x_train.shape[1])),int(math.sqrt(x_train.shape[1])))\n",
    "x_test_c = x_test.reshape(x_test.shape[0],int(math.sqrt(x_test.shape[1])),int(math.sqrt(x_test.shape[1])))"
   ]
  },
  {
   "cell_type": "code",
   "execution_count": 46,
   "metadata": {},
   "outputs": [
    {
     "name": "stdout",
     "output_type": "stream",
     "text": [
      "Epoch 1/40\n",
      "100/100 [==============================] - 2s 18ms/step - loss: 0.5901 - accuracy: 0.8275\n",
      "Epoch 2/40\n",
      "100/100 [==============================] - 2s 17ms/step - loss: 0.1563 - accuracy: 0.9534\n",
      "Epoch 3/40\n",
      "100/100 [==============================] - 2s 18ms/step - loss: 0.1076 - accuracy: 0.9681\n",
      "Epoch 4/40\n",
      "100/100 [==============================] - 2s 17ms/step - loss: 0.0901 - accuracy: 0.9727\n",
      "Epoch 5/40\n",
      "100/100 [==============================] - 2s 17ms/step - loss: 0.0776 - accuracy: 0.9761\n",
      "Epoch 6/40\n",
      "100/100 [==============================] - 2s 17ms/step - loss: 0.0699 - accuracy: 0.9784\n",
      "Epoch 7/40\n",
      "100/100 [==============================] - 2s 17ms/step - loss: 0.0635 - accuracy: 0.9804\n",
      "Epoch 8/40\n",
      "100/100 [==============================] - 2s 17ms/step - loss: 0.0595 - accuracy: 0.9821\n",
      "Epoch 9/40\n",
      "100/100 [==============================] - 2s 17ms/step - loss: 0.0553 - accuracy: 0.9828\n",
      "Epoch 10/40\n",
      "100/100 [==============================] - 2s 17ms/step - loss: 0.0517 - accuracy: 0.9834\n",
      "Epoch 11/40\n",
      "100/100 [==============================] - 2s 17ms/step - loss: 0.0497 - accuracy: 0.9847\n",
      "Epoch 12/40\n",
      "100/100 [==============================] - 2s 17ms/step - loss: 0.0490 - accuracy: 0.9845\n",
      "Epoch 13/40\n",
      "100/100 [==============================] - 2s 18ms/step - loss: 0.0440 - accuracy: 0.9867\n",
      "Epoch 14/40\n",
      "100/100 [==============================] - 2s 17ms/step - loss: 0.0451 - accuracy: 0.9856\n",
      "Epoch 15/40\n",
      "100/100 [==============================] - 2s 17ms/step - loss: 0.0427 - accuracy: 0.9870\n",
      "Epoch 16/40\n",
      "100/100 [==============================] - 2s 17ms/step - loss: 0.0402 - accuracy: 0.9874\n",
      "Epoch 17/40\n",
      "100/100 [==============================] - 2s 17ms/step - loss: 0.0382 - accuracy: 0.9878\n",
      "Epoch 18/40\n",
      "100/100 [==============================] - 2s 17ms/step - loss: 0.0390 - accuracy: 0.9880\n",
      "Epoch 19/40\n",
      "100/100 [==============================] - 2s 17ms/step - loss: 0.0361 - accuracy: 0.9885\n",
      "Epoch 20/40\n",
      "100/100 [==============================] - 2s 17ms/step - loss: 0.0354 - accuracy: 0.9885\n",
      "Epoch 21/40\n",
      "100/100 [==============================] - 2s 18ms/step - loss: 0.0343 - accuracy: 0.9894\n",
      "Epoch 22/40\n",
      "100/100 [==============================] - 2s 17ms/step - loss: 0.0339 - accuracy: 0.9893\n",
      "Epoch 23/40\n",
      "100/100 [==============================] - 2s 17ms/step - loss: 0.0319 - accuracy: 0.9900\n",
      "Epoch 24/40\n",
      "100/100 [==============================] - 2s 17ms/step - loss: 0.0322 - accuracy: 0.9894\n",
      "Epoch 25/40\n",
      "100/100 [==============================] - 2s 18ms/step - loss: 0.0318 - accuracy: 0.9904\n",
      "Epoch 26/40\n",
      "100/100 [==============================] - 2s 17ms/step - loss: 0.0319 - accuracy: 0.9900\n",
      "Epoch 27/40\n",
      "100/100 [==============================] - 2s 17ms/step - loss: 0.0309 - accuracy: 0.9901\n",
      "Epoch 28/40\n",
      "100/100 [==============================] - 2s 17ms/step - loss: 0.0295 - accuracy: 0.9907\n",
      "Epoch 29/40\n",
      "100/100 [==============================] - 2s 18ms/step - loss: 0.0282 - accuracy: 0.9908\n",
      "Epoch 30/40\n",
      "100/100 [==============================] - 2s 17ms/step - loss: 0.0294 - accuracy: 0.9907\n",
      "Epoch 31/40\n",
      "100/100 [==============================] - 2s 17ms/step - loss: 0.0266 - accuracy: 0.9917\n",
      "Epoch 32/40\n",
      "100/100 [==============================] - 2s 17ms/step - loss: 0.0266 - accuracy: 0.9911\n",
      "Epoch 33/40\n",
      "100/100 [==============================] - 2s 18ms/step - loss: 0.0275 - accuracy: 0.9909\n",
      "Epoch 34/40\n",
      "100/100 [==============================] - 2s 17ms/step - loss: 0.0252 - accuracy: 0.9919\n",
      "Epoch 35/40\n",
      "100/100 [==============================] - 2s 17ms/step - loss: 0.0254 - accuracy: 0.9916\n",
      "Epoch 36/40\n",
      "100/100 [==============================] - 2s 17ms/step - loss: 0.0261 - accuracy: 0.9912\n",
      "Epoch 37/40\n",
      "100/100 [==============================] - 2s 18ms/step - loss: 0.0254 - accuracy: 0.9915\n",
      "Epoch 38/40\n",
      "100/100 [==============================] - 2s 18ms/step - loss: 0.0250 - accuracy: 0.9918\n",
      "Epoch 39/40\n",
      "100/100 [==============================] - 2s 18ms/step - loss: 0.0242 - accuracy: 0.9920\n",
      "Epoch 40/40\n",
      "100/100 [==============================] - 2s 18ms/step - loss: 0.0239 - accuracy: 0.9918\n"
     ]
    },
    {
     "data": {
      "text/plain": [
       "<keras.callbacks.History at 0x16966bb8910>"
      ]
     },
     "execution_count": 46,
     "metadata": {},
     "output_type": "execute_result"
    }
   ],
   "source": [
    "model2 = tf.keras.Sequential()\n",
    "model2.add(tf.keras.layers.Conv2D(50,(3,3), activation = \"relu\", input_shape = (x_train_c.shape[1],x_train_c.shape[2],1)))\n",
    "model2.add(tf.keras.layers.Dropout(0.5))\n",
    "model2.add(tf.keras.layers.MaxPooling2D((2,2)))\n",
    "model2.add(tf.keras.layers.Conv2D(50,(3,3), activation = \"relu\", input_shape = (x_train_c.shape[1],x_train_c.shape[2],1)))\n",
    "model2.add(tf.keras.layers.Dropout(0.5))\n",
    "model2.add(tf.keras.layers.MaxPooling2D((2,2)))\n",
    "model2.add(tf.keras.layers.Flatten())\n",
    "model2.add(tf.keras.layers.Dense(units = 10, activation = \"softmax\"))\n",
    "\n",
    "model2.compile(loss = \"categorical_crossentropy\", optimizer = \"Adam\", metrics = [\"accuracy\"])\n",
    "model2.fit(x_train_c, y_train, batch_size = 600, epochs = 40)"
   ]
  },
  {
   "cell_type": "code",
   "execution_count": 47,
   "metadata": {},
   "outputs": [
    {
     "name": "stdout",
     "output_type": "stream",
     "text": [
      "313/313 [==============================] - 1s 4ms/step - loss: 0.0479 - accuracy: 0.9915\n"
     ]
    },
    {
     "data": {
      "text/plain": [
       "[0.04785701259970665, 0.9915000200271606]"
      ]
     },
     "execution_count": 47,
     "metadata": {},
     "output_type": "execute_result"
    }
   ],
   "source": [
    "model2.evaluate(x_test_c,y_test)"
   ]
  }
 ],
 "metadata": {
  "kernelspec": {
   "display_name": "Python 3",
   "language": "python",
   "name": "python3"
  },
  "language_info": {
   "codemirror_mode": {
    "name": "ipython",
    "version": 3
   },
   "file_extension": ".py",
   "mimetype": "text/x-python",
   "name": "python",
   "nbconvert_exporter": "python",
   "pygments_lexer": "ipython3",
   "version": "3.9.13"
  },
  "orig_nbformat": 4
 },
 "nbformat": 4,
 "nbformat_minor": 2
}
